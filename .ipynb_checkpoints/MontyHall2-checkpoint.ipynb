{
 "cells": [
  {
   "cell_type": "markdown",
   "metadata": {},
   "source": [
    "# Monty Hall Extended (04.24.20)"
   ]
  },
  {
   "cell_type": "markdown",
   "metadata": {},
   "source": [
    "### New rules and scenario:\n",
    "\n",
    "First, he will randomly pick a number of goats to put behind the doors: zero, one, two or three, each with a 25 percent chance. After the number of goats is chosen, they are assigned to the doors at random, and each door has at most one goat. Any doors that don’t have a goat behind them have an identical prize behind them.\n",
    "\n",
    "At this point, you choose a door. If Monty is able to open another door, revealing a goat, he will do so. But if no other doors have goats behind them, he will tell you that is the case.\n",
    "\n",
    "It just so happens that when you play, Monty is able to open another door, revealing a goat behind it. Should you stay with your original selection or switch? And what are your chances of winning the prize?"
   ]
  },
  {
   "cell_type": "markdown",
   "metadata": {},
   "source": [
    "For all scenarios where we can be shown a goat, these occur when there is 1, 2, or 3 goats. Assuming without loss fo generality that door \\#1 is chosen, these scenarios, listed out, are\n",
    "\n",
    "1. [P | P | G]\n",
    "2. [P | G | P]\n",
    "3. [P | G | G]\n",
    "4. [G | P | G]\n",
    "5. [G | G | P]\n",
    "6. [G | G | G]\n",
    "7. [G | G | G]\n",
    "8. [G | G | G]\n",
    "\n",
    "From here, we can simply count the possibilities for the diferent outcomes and build our probabilities as in the original Monty Hall problem. So, showing how these change after Monty shows us a goat:\n",
    "\n",
    "1. [P | P | ~G~] = [P | P]\n",
    "2. [P | ~G~ | P] = [P | P]\n",
    "3. [P | ~G~ | G] = [P | G]\n",
    "4. [G | P | ~G~] = [G | P]\n",
    "5. [G | ~G~ | P] = [G | P]\n",
    "6. [G | ~G~ | G] = [G | G]\n",
    "7. [G | ~G~ | G] = [G | G]\n",
    "8. [G | ~G~ | G] = [G | G]"
   ]
  },
  {
   "cell_type": "markdown",
   "metadata": {},
   "source": [
    "Our final answer can be determined by counting amongst these possibilities. **If we stay with the original choice, we win a prize in 3/8 scenarios, for a 37.5% probability. If we change, however, we will win a prize in 4/8 scenarios, for a 50% probability. Therefore, our best strategy, when Monty Hall can open a door, is to switch doors to increase our chances of winning.** Unfortunately, this still only leaves a 50/50 shot at best, which is slightly worse than the original Monty Hall Problem. "
   ]
  },
  {
   "cell_type": "markdown",
   "metadata": {},
   "source": [
    "___\n",
    "\n",
    "Can we simulate our way to the same answer, however?"
   ]
  },
  {
   "cell_type": "code",
   "execution_count": 9,
   "metadata": {},
   "outputs": [],
   "source": [
    "import numpy as np\n",
    "from pylab import *\n",
    "%matplotlib inline\n",
    "import matplotlib.pyplot as plt\n",
    "plt.style.use('seaborn-white')"
   ]
  },
  {
   "cell_type": "code",
   "execution_count": 27,
   "metadata": {},
   "outputs": [
    {
     "name": "stdout",
     "output_type": "stream",
     "text": [
      "133187\n",
      "0.665935\n"
     ]
    }
   ],
   "source": [
    "def numGoats():\n",
    "    n = np.random.randint(low=0, high=4)\n",
    "    return n\n",
    "\n",
    "def populateDoors():\n",
    "    nGoats = numGoats()\n",
    "    nPrize = 3-nGoats\n",
    "    doors = nGoats*['g'] + nPrize*['p']\n",
    "    np.random.shuffle(doors)\n",
    "    return doors\n",
    "\n",
    "canShow = 0\n",
    "for i in range(200000):\n",
    "    l = populateDoors()\n",
    "    if l[1] == 'g' or l[2] == 'g':\n",
    "        canShow += 1\n",
    "    \n",
    "        \n",
    "print(canShow)\n",
    "print(canShow/200000)"
   ]
  },
  {
   "cell_type": "markdown",
   "metadata": {},
   "source": [
    "This shows that we can show a goat in 2/3 of the scenarios. While this lines up with the traditional analysis shown above, this fact is actually irrelevant to the ultimate answer, however. We are looking for the strategy and win probability for situations in which we know that Monty Hall can show a goat. In other words, we are looking for the optimal strategy among these 2/3 of scenarios."
   ]
  },
  {
   "cell_type": "markdown",
   "metadata": {},
   "source": [
    "Again, without a loss of generality, we can choose door \\#1. "
   ]
  },
  {
   "cell_type": "markdown",
   "metadata": {},
   "source": [
    "Let's examine cases in which we stay with door \\#1, as we originally chose. "
   ]
  },
  {
   "cell_type": "code",
   "execution_count": 30,
   "metadata": {},
   "outputs": [
    {
     "name": "stdout",
     "output_type": "stream",
     "text": [
      "49955\n",
      "0.249775\n"
     ]
    }
   ],
   "source": [
    "wins = 0\n",
    "trials = 200000\n",
    "for i in range(trials):\n",
    "    l = populateDoors()\n",
    "    if l[1] == 'g' or l[2] == 'g':\n",
    "        if l[0] == 'p':\n",
    "            wins += 1\n",
    "\n",
    "prob = wins/trials\n",
    "print(wins)\n",
    "print(prob)\n",
    "        "
   ]
  },
  {
   "cell_type": "markdown",
   "metadata": {},
   "source": [
    "And cases in which we switch doors:"
   ]
  },
  {
   "cell_type": "code",
   "execution_count": 34,
   "metadata": {},
   "outputs": [
    {
     "name": "stdout",
     "output_type": "stream",
     "text": [
      "100146\n",
      "0.50073\n"
     ]
    }
   ],
   "source": [
    "wins = 0\n",
    "trials = 200000\n",
    "for i in range(trials):\n",
    "    l = populateDoors()\n",
    "    if l[1] == 'g':\n",
    "        choice = l[2]\n",
    "        #print(i, choice)\n",
    "    elif l[2] == 'g':\n",
    "        choice = l[1]\n",
    "        #print(i, choice)\n",
    "    if choice == 'p':\n",
    "        wins += 1\n",
    "        \n",
    "prob = wins/trials\n",
    "print(wins)\n",
    "print(prob)"
   ]
  },
  {
   "cell_type": "code",
   "execution_count": null,
   "metadata": {},
   "outputs": [],
   "source": []
  }
 ],
 "metadata": {
  "kernelspec": {
   "display_name": "Python 3",
   "language": "python",
   "name": "python3"
  },
  "language_info": {
   "codemirror_mode": {
    "name": "ipython",
    "version": 3
   },
   "file_extension": ".py",
   "mimetype": "text/x-python",
   "name": "python",
   "nbconvert_exporter": "python",
   "pygments_lexer": "ipython3",
   "version": "3.7.6"
  }
 },
 "nbformat": 4,
 "nbformat_minor": 4
}
